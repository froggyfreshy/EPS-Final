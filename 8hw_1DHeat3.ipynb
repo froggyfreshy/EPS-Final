{
 "cells": [
  {
   "cell_type": "code",
   "execution_count": 1,
   "id": "b476a910",
   "metadata": {},
   "outputs": [],
   "source": [
    "import numpy as np\n",
    "import matplotlib.pyplot as plt"
   ]
  },
  {
   "cell_type": "code",
   "execution_count": 2,
   "id": "e48e9bf5",
   "metadata": {},
   "outputs": [],
   "source": [
    "m=4\n",
    "N = 50\n",
    "d = 5\n",
    "L = d+(d*m)*2\n",
    "\n",
    "T = np.zeros(5*N)\n",
    "x = np.linspace(0,L,5*N)\n"
   ]
  },
  {
   "cell_type": "code",
   "execution_count": 3,
   "id": "0ec0dcf3",
   "metadata": {},
   "outputs": [],
   "source": [
    "def Tfunc(T):\n",
    "    for i in range(len(T)):\n",
    "        if x[i]>10 and x[i]<=15:\n",
    "            T[i]= 1230+273 # 1150 in Kelvin\n",
    "        else:\n",
    "            T[i]=20+273 # 0 Deg in Kelvin\n",
    "    return T\n",
    "\n",
    "T = Tfunc(T)\n",
    "#print(T)\n"
   ]
  },
  {
   "cell_type": "code",
   "execution_count": 4,
   "id": "797fa87a",
   "metadata": {},
   "outputs": [
    {
     "name": "stdout",
     "output_type": "stream",
     "text": [
      "n: 0.005028058361391695\n"
     ]
    }
   ],
   "source": [
    "k = 5.2 #J/m/s/K\n",
    "c = 1300 #J/kg/K\n",
    "p = 2750 #kg/m^3\n",
    "delta_t = 1800//(m**2) #sec\n",
    "delta_x = (L/(N*5))**2\n",
    "n = (delta_t/delta_x)*(k/(c*p)) \n",
    "\n",
    "print(\"n:\", n)\n",
    "\n",
    "def tchange(T,n):\n",
    "    Tnew=np.copy(T)\n",
    "    for i in range(1,N*5-1):\n",
    "        Tnew[i] = n*((T[i+1])-(2*T[i])+T[i-1])+(T[i])\n",
    "        Tnew = T\n",
    "    return T\n",
    "\n",
    "#print(tchange(T,n))"
   ]
  },
  {
   "cell_type": "code",
   "execution_count": 5,
   "id": "12fbcd63",
   "metadata": {},
   "outputs": [
    {
     "name": "stdout",
     "output_type": "stream",
     "text": [
      "1503.0\n",
      "1502.9955274519475\n",
      "1432.119975317856\n",
      "1067.4549119905673\n",
      "534.5878157804455\n"
     ]
    }
   ],
   "source": [
    "t_org = 1800\n",
    "\n",
    "hour = 60*60 \n",
    "day = 60*60*24\n",
    "week = 60*60*24*7\n",
    "month = 60*60*24*30\n",
    "year = 60*60*24*365\n",
    "\n",
    "time = np.array([hour , day, week, month, year])\n",
    "timecalc = time//delta_t\n",
    "\n",
    "for t in timecalc:\n",
    "    T = Tfunc(T)\n",
    "    for j in range(t):\n",
    "        T=tchange(T,n)\n",
    "    print(max(T))"
   ]
  },
  {
   "cell_type": "code",
   "execution_count": 9,
   "id": "1b730d2f",
   "metadata": {},
   "outputs": [],
   "source": [
    "#6 multiplier\n",
    "\n",
    "m=6\n",
    "N = 50\n",
    "d = 5\n",
    "L = d+(d*m)*2\n",
    "\n",
    "T = np.zeros(5*N)\n",
    "x = np.linspace(0,L,5*N)"
   ]
  },
  {
   "cell_type": "code",
   "execution_count": 10,
   "id": "fcca7558",
   "metadata": {},
   "outputs": [],
   "source": [
    "def Tfunc(T):\n",
    "    for i in range(len(T)):\n",
    "        if x[i]>10 and x[i]<=15:\n",
    "            T[i]= 1230+273 # 1150 in Kelvin\n",
    "        else:\n",
    "            T[i]=20+273 # 0 Deg in Kelvin\n",
    "    return T\n",
    "\n",
    "T = Tfunc(T)\n",
    "#print(T)\n"
   ]
  },
  {
   "cell_type": "code",
   "execution_count": 11,
   "id": "f9b5b08f",
   "metadata": {},
   "outputs": [
    {
     "name": "stdout",
     "output_type": "stream",
     "text": [
      "n: 0.0010758472296933835\n"
     ]
    }
   ],
   "source": [
    "k = 5.2 #J/m/s/K\n",
    "c = 1300 #J/kg/K\n",
    "p = 2750 #kg/m^3\n",
    "delta_t = 1800//(m**2) #sec\n",
    "delta_x = (L/(N*5))**2\n",
    "n = (delta_t/delta_x)*(k/(c*p)) \n",
    "\n",
    "print(\"n:\", n)\n",
    "\n",
    "def tchange(T,n):\n",
    "    Tnew=np.copy(T)\n",
    "    for i in range(1,N*5-1):\n",
    "        Tnew[i] = n*((T[i+1])-(2*T[i])+T[i-1])+(T[i])\n",
    "        Tnew = T\n",
    "    return T\n",
    "\n",
    "#print(tchange(T,n))"
   ]
  },
  {
   "cell_type": "code",
   "execution_count": 13,
   "id": "8798478b",
   "metadata": {},
   "outputs": [
    {
     "name": "stdout",
     "output_type": "stream",
     "text": [
      "1503.0\n",
      "1502.9869008443343\n",
      "1427.3547380516504\n",
      "1057.63178334145\n",
      "530.0219568647199\n"
     ]
    }
   ],
   "source": [
    "t_org = 1800\n",
    "\n",
    "hour = 60*60 \n",
    "day = 60*60*24\n",
    "week = 60*60*24*7\n",
    "month = 60*60*24*30\n",
    "year = 60*60*24*365\n",
    "\n",
    "time = np.array([hour , day, week, month, year])\n",
    "timecalc = time//delta_t\n",
    "\n",
    "for t in timecalc:\n",
    "    T = Tfunc(T)\n",
    "    for j in range(t):\n",
    "        T=tchange(T,n)\n",
    "    print(max(T))"
   ]
  },
  {
   "cell_type": "code",
   "execution_count": 14,
   "id": "c4b5433f",
   "metadata": {},
   "outputs": [],
   "source": [
    "#6 multiplier\n",
    "\n",
    "m=8\n",
    "N = 50\n",
    "d = 5\n",
    "L = d+(d*m)*2\n",
    "\n",
    "T = np.zeros(5*N)\n",
    "x = np.linspace(0,L,5*N)"
   ]
  },
  {
   "cell_type": "code",
   "execution_count": 15,
   "id": "7ff5db18",
   "metadata": {},
   "outputs": [],
   "source": [
    "def Tfunc(T):\n",
    "    for i in range(len(T)):\n",
    "        if x[i]>10 and x[i]<=15:\n",
    "            T[i]= 1230+273 # 1150 in Kelvin\n",
    "        else:\n",
    "            T[i]=20+273 # 0 Deg in Kelvin\n",
    "    return T\n",
    "\n",
    "T = Tfunc(T)\n",
    "#print(T)\n"
   ]
  },
  {
   "cell_type": "code",
   "execution_count": 16,
   "id": "17230231",
   "metadata": {},
   "outputs": [
    {
     "name": "stdout",
     "output_type": "stream",
     "text": [
      "n: 0.0010758472296933835\n"
     ]
    }
   ],
   "source": [
    "k = 5.2 #J/m/s/K\n",
    "c = 1300 #J/kg/K\n",
    "p = 2750 #kg/m^3\n",
    "delta_t = 1800//(m**2) #sec\n",
    "delta_x = (L/(N*5))**2\n",
    "n = (delta_t/delta_x)*(k/(c*p)) \n",
    "\n",
    "print(\"n:\", n)\n",
    "\n",
    "def tchange(T,n):\n",
    "    Tnew=np.copy(T)\n",
    "    for i in range(1,N*5-1):\n",
    "        Tnew[i] = n*((T[i+1])-(2*T[i])+T[i-1])+(T[i])\n",
    "        Tnew = T\n",
    "    return T\n",
    "\n",
    "#print(tchange(T,n))"
   ]
  },
  {
   "cell_type": "code",
   "execution_count": 17,
   "id": "352a0ff2",
   "metadata": {},
   "outputs": [
    {
     "name": "stdout",
     "output_type": "stream",
     "text": [
      "1503.0\n",
      "1502.9869008443343\n",
      "1427.3547380516504\n",
      "1057.63178334145\n",
      "530.0219568647199\n"
     ]
    }
   ],
   "source": [
    "\n",
    "hour = 60*60 \n",
    "day = 60*60*24\n",
    "week = 60*60*24*7\n",
    "month = 60*60*24*30\n",
    "year = 60*60*24*365\n",
    "\n",
    "time = np.array([hour , day, week, month, year])\n",
    "timecalc = time//delta_t\n",
    "\n",
    "for t in timecalc:\n",
    "    T = Tfunc(T)\n",
    "    for j in range(t):\n",
    "        T=tchange(T,n)\n",
    "    print(max(T))\n",
    "    "
   ]
  },
  {
   "cell_type": "markdown",
   "id": "f773c994",
   "metadata": {},
   "source": [
    "### Question 3\n",
    "\n",
    "| cooling time | CONVERGED d*8 Temperature at the dike center (K) |\n",
    "| --- | --- |\n",
    "| 1 hour | 1503 |\n",
    "| 1 day | 1503 |\n",
    "| 1 week | 1427 |\n",
    "| 1 month | 1057 |\n",
    "| 1 year |  530  |"
   ]
  },
  {
   "cell_type": "code",
   "execution_count": null,
   "id": "2da0b702",
   "metadata": {},
   "outputs": [],
   "source": []
  }
 ],
 "metadata": {
  "kernelspec": {
   "display_name": "Python 3 (ipykernel)",
   "language": "python",
   "name": "python3"
  },
  "language_info": {
   "codemirror_mode": {
    "name": "ipython",
    "version": 3
   },
   "file_extension": ".py",
   "mimetype": "text/x-python",
   "name": "python",
   "nbconvert_exporter": "python",
   "pygments_lexer": "ipython3",
   "version": "3.11.5"
  }
 },
 "nbformat": 4,
 "nbformat_minor": 5
}
