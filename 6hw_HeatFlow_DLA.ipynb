{
 "cells": [
  {
   "cell_type": "code",
   "execution_count": 1,
   "id": "047a3a6c",
   "metadata": {},
   "outputs": [],
   "source": [
    "import numpy as np\n",
    "import matplotlib.pyplot as plt"
   ]
  },
  {
   "cell_type": "code",
   "execution_count": 2,
   "id": "36135521",
   "metadata": {},
   "outputs": [],
   "source": [
    "\n",
    "def display(A,B):\n",
    "    maxX = A.shape[0]\n",
    "    maxY = A.shape[1]\n",
    "    \n",
    "    m2 = np.max(B)\n",
    "    B[A[:,:]==1] = m2\n",
    "    \n",
    "    m1 = np.min(B[B[:,:]>0])\n",
    "    if(m1==m2): m1=m2/2\n",
    "    B[B[:,:]==0] = m1*(m1/m2)**(1/10)\n",
    "    \n",
    "    D = np.zeros((maxY, maxX))\n",
    "    for ix in range(0,maxX):\n",
    "        for iy in range(0,maxY):\n",
    "            D[maxY-1-iy,ix] = np.log(B[ix, iy])\n",
    "    %matplotlib qt \n",
    "    \n",
    "    plt.rcParams['figure.figsize'] = [6, 6/maxX*maxY]\n",
    "    plt.imshow(D); \n",
    "    plt.axis('off'); \n",
    "    plt.show()\n",
    "    plt.draw()\n",
    "    plt.pause(0.1)"
   ]
  },
  {
   "cell_type": "code",
   "execution_count": 3,
   "id": "1bd930ae",
   "metadata": {},
   "outputs": [],
   "source": [
    "nParticles = 10000\n",
    "maxX = 200+5*9\n",
    "maxY = 40"
   ]
  },
  {
   "cell_type": "code",
   "execution_count": 25,
   "id": "b3dd0072",
   "metadata": {},
   "outputs": [
    {
     "name": "stdout",
     "output_type": "stream",
     "text": [
      "[[1. 0. 0. ... 0. 0. 1.]\n",
      " [1. 0. 0. ... 0. 0. 1.]\n",
      " [1. 0. 0. ... 0. 0. 1.]\n",
      " ...\n",
      " [1. 0. 0. ... 0. 0. 1.]\n",
      " [1. 0. 0. ... 0. 0. 1.]\n",
      " [1. 0. 0. ... 0. 0. 1.]]\n"
     ]
    },
    {
     "data": {
      "text/plain": [
       "<matplotlib.image.AxesImage at 0x23dfbebca50>"
      ]
     },
     "execution_count": 25,
     "metadata": {},
     "output_type": "execute_result"
    }
   ],
   "source": [
    "A = np.zeros((maxX, maxY))\n",
    "B = np.zeros((maxX, maxY))\n",
    "\n",
    "\n",
    "A[:,0] = 1 #adding row at bottom \n",
    "A[:, maxY-1] = 1 #adding row at top\n",
    "\n",
    "print(A)\n"
   ]
  },
  {
   "cell_type": "code",
   "execution_count": 5,
   "id": "44473659",
   "metadata": {},
   "outputs": [],
   "source": [
    "#particle starts in the middle at very right of pipe \n",
    "\n",
    "ystart = maxY//2\n",
    "xstart = maxX-1"
   ]
  },
  {
   "cell_type": "code",
   "execution_count": 9,
   "id": "108b1791",
   "metadata": {},
   "outputs": [
    {
     "name": "stdout",
     "output_type": "stream",
     "text": [
      "i= 1000\tx=0 \ty=14 \tyStart=20 \tCurrent probability=0.533\n",
      "i= 2000\tx=120 \ty=1 \tyStart=20 \tCurrent probability=0.5295\n",
      "i= 3000\tx=0 \ty=23 \tyStart=20 \tCurrent probability=0.5296666666666666\n",
      "i= 4000\tx=0 \ty=34 \tyStart=20 \tCurrent probability=0.531\n",
      "i= 5000\tx=0 \ty=11 \tyStart=20 \tCurrent probability=0.5366\n",
      "i= 6000\tx=0 \ty=15 \tyStart=20 \tCurrent probability=0.5388333333333334\n",
      "i= 7000\tx=107 \ty=1 \tyStart=20 \tCurrent probability=0.5375714285714286\n",
      "i= 8000\tx=178 \ty=38 \tyStart=20 \tCurrent probability=0.537875\n",
      "i= 9000\tx=99 \ty=38 \tyStart=20 \tCurrent probability=0.5353333333333333\n",
      "Particles Finished 5353\n",
      "probability Finished 0.5353\n",
      "accuracy (%) 0.0062270377981187485\n"
     ]
    }
   ],
   "source": [
    "def F(A,B):\n",
    "    finished = 0 \n",
    "    for i in range (0,nParticles):\n",
    "        x = xstart\n",
    "        y = ystart;\n",
    "\n",
    "    #movement probabilities\n",
    "\n",
    "        while True:\n",
    "            xorg = x\n",
    "            yorg = y\n",
    "\n",
    "            r = np.random.random();\n",
    "            if r>0.5:\n",
    "                x = x-1\n",
    "            elif r>0.4:\n",
    "                x = x+1\n",
    "            elif r>0.2:\n",
    "                y = y+1\n",
    "            else:\n",
    "                y = y-1\n",
    "\n",
    "    #boundary conditions \n",
    "\n",
    "            if (x >= maxX-1): #bouncing off right boundary \n",
    "                x = xorg\n",
    "                y = yorg\n",
    "                continue;\n",
    "\n",
    "            #determining neighboring coords     \n",
    "            xp = x+1\n",
    "            xm = x-1\n",
    "            yp = y+1\n",
    "            ym = y-1\n",
    "\n",
    "            if ym < 0:\n",
    "                ym = maxY-1\n",
    "            elif yp >= maxY:\n",
    "                yp = 0\n",
    "            elif xp >= maxX:\n",
    "                xp = 0\n",
    "                \n",
    "                \n",
    "            if (xm < 0  or A[xp,y] == 1 or A[xm,y] == 1 or A[x,yp] == 1 or A[x,ym] == 1):\n",
    "                B[x,y] += 1\n",
    "                \n",
    "                if xm<1:\n",
    "                    finished += 1\n",
    "                if (i%1000==0 and i != 0): \n",
    "                    current_prob = finished/i #calc of prob at given interval \n",
    "                    print(f'i= {i}\\tx={x} \\ty={y} \\tyStart={ystart} \\tCurrent probability={current_prob}')\n",
    "\n",
    "                if i%1000 == 0:\n",
    "                    display(A,B)\n",
    "                \n",
    "                break \n",
    "            \n",
    "    return finished, current_prob\n",
    "            \n",
    "\n",
    "            \n",
    "finished, current_prob = F(A,B)\n",
    "print('Particles Finished',finished)\n",
    "\n",
    "prob_finished = finished/nParticles\n",
    "print('probability Finished', prob_finished)\n",
    "\n",
    "accuracy = (abs(current_prob - prob_finished)/prob_finished)*100\n",
    "print('accuracy (%)',accuracy)\n",
    "\n",
    "display(A,B)\n",
    "plt.savefig('final.png', bbox_inches='tight')\n",
    "            "
   ]
  },
  {
   "cell_type": "code",
   "execution_count": 31,
   "id": "2dadde24",
   "metadata": {},
   "outputs": [
    {
     "data": {
      "text/plain": [
       "<matplotlib.image.AxesImage at 0x23d816fa210>"
      ]
     },
     "execution_count": 31,
     "metadata": {},
     "output_type": "execute_result"
    }
   ],
   "source": [
    "A = np.zeros((maxX, maxY))\n",
    "B = np.zeros((maxX, maxY))\n",
    "\n",
    "r = 5\n",
    "\n",
    "A1 = np.copy(A)\n",
    "\n",
    "for i in range(maxX):\n",
    "    for j in range(maxY):\n",
    "        A1[:,0] = 1 #adding row at bottom \n",
    "        A1[:, maxY-1] = 1 #adding row at top'\n",
    "        if (i-(maxX/2))**2+(j-(maxY/2))**2 <= r**2 or (i-(maxX/2)-20)**2+(j-(maxY/2))**2 <= r**2 or (i-(maxX/2)+20)**2+(j-(maxY/2))**2 <= r**2:\n",
    "            A1[i,j] = 1\n",
    "            \n",
    "plt.imshow(A1)\n",
    "\n",
    "        \n"
   ]
  },
  {
   "cell_type": "markdown",
   "id": "289d6e25",
   "metadata": {},
   "source": []
  },
  {
   "cell_type": "code",
   "execution_count": 32,
   "id": "3b5a9421",
   "metadata": {},
   "outputs": [
    {
     "name": "stdout",
     "output_type": "stream",
     "text": [
      "i= 1000\tx=146 \ty=24 \tyStart=20 \tCurrent probability=0.055\n",
      "i= 2000\tx=148 \ty=18 \tyStart=20 \tCurrent probability=0.061\n",
      "i= 3000\tx=0 \ty=26 \tyStart=20 \tCurrent probability=0.06333333333333334\n",
      "i= 4000\tx=192 \ty=1 \tyStart=20 \tCurrent probability=0.06625\n",
      "i= 5000\tx=129 \ty=1 \tyStart=20 \tCurrent probability=0.0656\n",
      "i= 6000\tx=119 \ty=1 \tyStart=20 \tCurrent probability=0.06683333333333333\n",
      "i= 7000\tx=0 \ty=32 \tyStart=20 \tCurrent probability=0.06714285714285714\n",
      "i= 8000\tx=144 \ty=25 \tyStart=20 \tCurrent probability=0.066125\n",
      "i= 9000\tx=181 \ty=38 \tyStart=20 \tCurrent probability=0.06722222222222222\n",
      "Particles Finished 670\n",
      "probability Finished 0.067\n",
      "accuracy (%) 0.3316749585406282\n"
     ]
    }
   ],
   "source": [
    "#question 6, 3 circles \n",
    "            \n",
    "finished, current_prob = F(A1,B)\n",
    "print('Particles Finished',finished)\n",
    "\n",
    "prob_finished = finished/nParticles\n",
    "print('probability Finished', prob_finished)\n",
    "\n",
    "accuracy = (abs(current_prob - prob_finished)/prob_finished)*100\n",
    "print('accuracy (%)',accuracy)\n",
    "\n",
    "display(A1,B)\n",
    "plt.savefig('final.png', bbox_inches='tight')\n",
    "            "
   ]
  },
  {
   "cell_type": "code",
   "execution_count": 40,
   "id": "a51b0a67",
   "metadata": {},
   "outputs": [
    {
     "data": {
      "text/plain": [
       "<matplotlib.image.AxesImage at 0x23d8176db10>"
      ]
     },
     "execution_count": 40,
     "metadata": {},
     "output_type": "execute_result"
    }
   ],
   "source": [
    "#question 7, shrinking 3 circles in y direction \n",
    "A = np.zeros((maxX, maxY))\n",
    "B = np.zeros((maxX, maxY))\n",
    "\n",
    "\n",
    "ai = 5\n",
    "bj = 5/2\n",
    "#eqs of elipse i^2/a^2 + j^2/b^2 = 1\n",
    "\n",
    "A2 = np.copy(A)\n",
    "\n",
    "for i in range(maxX):\n",
    "    for j in range(maxY):\n",
    "        A2[:,0] = 1 #adding row at bottom \n",
    "        A2[:, maxY-1] = 1 #adding row at top'\n",
    "        if ((i-(maxX/2))**2)/ai**2+((j-(maxY/2))**2)/bj**2 <= 1 or ((i-(maxX/2)-20)**2)/ai**2+((j-(maxY/2))**2)/bj**2 <= 1 or ((i-(maxX/2)+20)**2)/ai**2+((j-(maxY/2))**2)/bj**2 <= 1: \n",
    "            A2[i,j] = 1\n",
    "            \n",
    "plt.imshow(A2)"
   ]
  },
  {
   "cell_type": "code",
   "execution_count": 41,
   "id": "4ff786e9",
   "metadata": {},
   "outputs": [
    {
     "name": "stdout",
     "output_type": "stream",
     "text": [
      "i= 1000\tx=104 \ty=38 \tyStart=20 \tCurrent probability=0.131\n",
      "i= 2000\tx=171 \ty=1 \tyStart=20 \tCurrent probability=0.1325\n",
      "i= 3000\tx=148 \ty=21 \tyStart=20 \tCurrent probability=0.13033333333333333\n",
      "i= 4000\tx=104 \ty=38 \tyStart=20 \tCurrent probability=0.13375\n",
      "i= 5000\tx=118 \ty=38 \tyStart=20 \tCurrent probability=0.1304\n",
      "i= 6000\tx=145 \ty=17 \tyStart=20 \tCurrent probability=0.127\n",
      "i= 7000\tx=145 \ty=23 \tyStart=20 \tCurrent probability=0.12842857142857142\n",
      "i= 8000\tx=147 \ty=18 \tyStart=20 \tCurrent probability=0.127875\n",
      "i= 9000\tx=148 \ty=21 \tyStart=20 \tCurrent probability=0.12655555555555556\n",
      "Particles Finished 1264\n",
      "probability Finished 0.1264\n",
      "accuracy (%) 0.12306610407875607\n"
     ]
    }
   ],
   "source": [
    "finished, current_prob = F(A2,B)\n",
    "print('Particles Finished',finished)\n",
    "\n",
    "prob_finished = finished/nParticles\n",
    "print('probability Finished', prob_finished)\n",
    "\n",
    "accuracy = (abs(current_prob - prob_finished)/prob_finished)*100\n",
    "print('accuracy (%)',accuracy)\n",
    "\n",
    "display(A2,B)\n",
    "plt.savefig('final.png', bbox_inches='tight')\n",
    "\n",
    "#success prob increased due to less surface area of obstacles in the main direction of particle travel (-x)"
   ]
  },
  {
   "cell_type": "code",
   "execution_count": 44,
   "id": "900619b4",
   "metadata": {},
   "outputs": [
    {
     "data": {
      "text/plain": [
       "<matplotlib.image.AxesImage at 0x23d81772410>"
      ]
     },
     "execution_count": 44,
     "metadata": {},
     "output_type": "execute_result"
    }
   ],
   "source": [
    "#question 8, enlarging obstacles in X direction by factor of 2\n",
    "\n",
    "ai = 5*2\n",
    "bj = 5\n",
    "#eqs of elipse i^2/a^2 + j^2/b^2 = 1\n",
    "\n",
    "A3 = np.copy(A)\n",
    "\n",
    "for i in range(maxX):\n",
    "    for j in range(maxY):\n",
    "        A3[:,0] = 1 #adding row at bottom \n",
    "        A3[:, maxY-1] = 1 #adding row at top'\n",
    "        if ((i-(maxX/2))**2)/ai**2+((j-(maxY/2))**2)/bj**2 <= 1 or ((i-(maxX/2)-20)**2)/ai**2+((j-(maxY/2))**2)/bj**2 <= 1 or ((i-(maxX/2)+20)**2)/ai**2+((j-(maxY/2))**2)/bj**2 <= 1: \n",
    "            A3[i,j] = 1\n",
    "            \n",
    "plt.imshow(A3)"
   ]
  },
  {
   "cell_type": "code",
   "execution_count": 45,
   "id": "5cb84490",
   "metadata": {},
   "outputs": [
    {
     "name": "stdout",
     "output_type": "stream",
     "text": [
      "i= 1000\tx=151 \ty=23 \tyStart=20 \tCurrent probability=0.041\n",
      "i= 2000\tx=150 \ty=24 \tyStart=20 \tCurrent probability=0.046\n",
      "i= 3000\tx=148 \ty=38 \tyStart=20 \tCurrent probability=0.048\n",
      "i= 4000\tx=151 \ty=23 \tyStart=20 \tCurrent probability=0.04875\n",
      "i= 5000\tx=152 \ty=18 \tyStart=20 \tCurrent probability=0.0488\n",
      "i= 6000\tx=151 \ty=23 \tyStart=20 \tCurrent probability=0.049833333333333334\n",
      "i= 7000\tx=147 \ty=25 \tyStart=20 \tCurrent probability=0.05014285714285714\n",
      "i= 8000\tx=150 \ty=24 \tyStart=20 \tCurrent probability=0.050875\n",
      "i= 9000\tx=153 \ty=20 \tyStart=20 \tCurrent probability=0.051\n",
      "Particles Finished 506\n",
      "probability Finished 0.0506\n",
      "accuracy (%) 0.7905138339920901\n"
     ]
    }
   ],
   "source": [
    "finished, current_prob = F(A3,B)\n",
    "print('Particles Finished',finished)\n",
    "\n",
    "prob_finished = finished/nParticles\n",
    "print('probability Finished', prob_finished)\n",
    "\n",
    "accuracy = (abs(current_prob - prob_finished)/prob_finished)*100\n",
    "print('accuracy (%)',accuracy)\n",
    "\n",
    "display(A3,B)\n",
    "plt.savefig('final.png', bbox_inches='tight')\n"
   ]
  },
  {
   "cell_type": "code",
   "execution_count": null,
   "id": "7a05fd3e",
   "metadata": {},
   "outputs": [],
   "source": [
    "#this is similar to the prob of the orginal circles due to it having the same width in the y direction, \n",
    "#the width chnage in x direction only slightly decreased the prob due to paricles moving mostly in the x direction. \n",
    "#change in y width causes the most variation, as seen in question 6 prob "
   ]
  }
 ],
 "metadata": {
  "kernelspec": {
   "display_name": "Python 3 (ipykernel)",
   "language": "python",
   "name": "python3"
  },
  "language_info": {
   "codemirror_mode": {
    "name": "ipython",
    "version": 3
   },
   "file_extension": ".py",
   "mimetype": "text/x-python",
   "name": "python",
   "nbconvert_exporter": "python",
   "pygments_lexer": "ipython3",
   "version": "3.11.5"
  }
 },
 "nbformat": 4,
 "nbformat_minor": 5
}
