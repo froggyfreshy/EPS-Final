{
 "cells": [
  {
   "cell_type": "markdown",
   "metadata": {},
   "source": [
    "# Diffusion Limited Aggregation \n",
    "#lab 06\n"
   ]
  },
  {
   "cell_type": "code",
   "execution_count": 1,
   "metadata": {
    "jupyter": {
     "outputs_hidden": true
    }
   },
   "outputs": [],
   "source": [
    "import numpy as np\n",
    "import matplotlib.pyplot as plt"
   ]
  },
  {
   "cell_type": "code",
   "execution_count": 2,
   "metadata": {},
   "outputs": [],
   "source": [
    "#note, this function expects a matrix A[ix,iy] \n",
    "#and then displays so that A[:,0] is the lowest row of pixels\n",
    "def display(A):\n",
    "    maxX = A.shape[0]\n",
    "    maxY = A.shape[1]\n",
    "    B = np.zeros((maxY, maxX))\n",
    "    for ix in range(0,maxX):\n",
    "        for iy in range(0,maxY):\n",
    "            B[maxY-1-iy,ix] = A[ix,iy]\n",
    "\n",
    "    #Display the graphics outside of the notebook. \n",
    "    #On a PC, use '%matplotlib qt' instead.\n",
    "    %matplotlib qt \n",
    "    \n",
    "    plt.rcParams['figure.figsize'] = [6, 6/maxX*maxY]\n",
    "    plt.imshow(B); \n",
    "    plt.axis('off'); \n",
    "    plt.show()\n",
    "    plt.draw()\n",
    "    plt.pause(0.01)"
   ]
  },
  {
   "cell_type": "code",
   "execution_count": 3,
   "metadata": {
    "jupyter": {
     "outputs_hidden": true
    }
   },
   "outputs": [],
   "source": [
    "nParticles = 10000\n",
    "maxX = 500\n",
    "maxY = 300"
   ]
  },
  {
   "cell_type": "code",
   "execution_count": 4,
   "metadata": {},
   "outputs": [
    {
     "name": "stdout",
     "output_type": "stream",
     "text": [
      "[[1. 1. 1. ... 1. 1. 1.]\n",
      " [0. 0. 0. ... 0. 0. 0.]\n",
      " [0. 0. 0. ... 0. 0. 0.]\n",
      " ...\n",
      " [0. 0. 0. ... 0. 0. 0.]\n",
      " [0. 0. 0. ... 0. 0. 0.]\n",
      " [0. 0. 0. ... 0. 0. 0.]]\n"
     ]
    }
   ],
   "source": [
    "# Initialize matrix containing all 2D grid points A(x,y)\n",
    "# 0 <= x < maxX\n",
    "# 0 <= y < maxY\n",
    "# A(x,y)=0 ... site is empty\n",
    "# A(x,y)>0 ... site is filled\n",
    "A = np.zeros((maxX, maxY))\n",
    "\n",
    "# Introduce a sticky wall at the bottom \n",
    "# by filling the lowest row of pixels with particles\n",
    "A[:,0] = 1\n",
    "print(A.transpose())"
   ]
  },
  {
   "cell_type": "code",
   "execution_count": 5,
   "metadata": {},
   "outputs": [],
   "source": [
    "#test the display routine\n",
    "display(A)"
   ]
  },
  {
   "cell_type": "code",
   "execution_count": 6,
   "metadata": {
    "jupyter": {
     "outputs_hidden": true
    }
   },
   "outputs": [],
   "source": [
    "# To save computer time, we want to inject the new particle not too far\n",
    "# above growing aggregate. We inject at on a line 'yStart', which\n",
    "# keeps being increased so that it is always 'yBuffer' lines above the\n",
    "# highest structure\n",
    "yBuffer = 5\n",
    "yStart  = 1 + yBuffer"
   ]
  },
  {
   "cell_type": "code",
   "execution_count": 7,
   "metadata": {},
   "outputs": [
    {
     "name": "stdout",
     "output_type": "stream",
     "text": [
      "i= 0 \tx=143 \ty=1 \tyStart=6\n",
      "i= 1000 \tx=240 \ty=9 \tyStart=22\n",
      "i= 2000 \tx=308 \ty=23 \tyStart=37\n",
      "i= 3000 \tx=63 \ty=38 \tyStart=50\n",
      "i= 4000 \tx=66 \ty=56 \tyStart=65\n",
      "i= 5000 \tx=405 \ty=70 \tyStart=83\n",
      "i= 6000 \tx=3 \ty=79 \tyStart=95\n",
      "i= 7000 \tx=354 \ty=102 \tyStart=112\n",
      "i= 8000 \tx=13 \ty=113 \tyStart=126\n",
      "i= 9000 \tx=18 \ty=114 \tyStart=137\n"
     ]
    }
   ],
   "source": [
    "for i in range(0,nParticles):\n",
    "    # Compute new starting point on the line y=yStart\n",
    "    x  = np.random.randint(0,maxX)\n",
    "    y  = yStart; #always start at upper limit\n",
    "\n",
    "    while True:\n",
    "        xOrg = x\n",
    "        yOrg = y\n",
    "\n",
    "        r = np.random.random(); # Random float:  0.0 <= r < 1.0\n",
    "        #based on the value of 'r', move the particle\n",
    "        #left, right, up, or down and change x and y accordingly\n",
    "\n",
    "#spliting 1 into 4 equal parts and assigning a portion to move in 4 differnt directions\n",
    "        if r>0.75:\n",
    "            y = y-1\n",
    "        elif r>0.5:\n",
    "            x = x-1\n",
    "        elif r>0.25:\n",
    "            y = y+1\n",
    "        else:\n",
    "            x = x+1\n",
    "        \n",
    "        #now apply periodic boundary conditions to 'x'\n",
    "#REVISIT CONCEPT\n",
    "        x = x%maxX\n",
    "        \n",
    "        \n",
    "        if (A[x,y] == 1 or y>yStart): \n",
    "            x = xOrg\n",
    "            y = yOrg\n",
    "            continue; # if this site has been taken try moving in a different direction\n",
    "        \n",
    "        #determine the x coordionates of the left and right neighbors\n",
    "        #store them in 'xm' and 'xp' and apply periodic boundary conditions again\n",
    "        \n",
    " #REVISIT CONCEPT       \n",
    "        xp = A[(x+1)%maxX,y]\n",
    "        xm = A[(x-1)%maxX,y]\n",
    "        yp = A[x, (y+1)]\n",
    "        ym = A[x,(y-1)]\n",
    " \n",
    "        # Determine if any neighboring site is occupied\n",
    "        # if that is the case, enter the following 'if' clause\n",
    "        \n",
    "#REVISIT CONCEPT\n",
    "        if np.any(np.array([xp,xm,yp,ym])==1): \n",
    "            A[x,y] = 1\n",
    "            if (y+yBuffer>yStart and y+yBuffer<maxY): \n",
    "                yStart = y+yBuffer\n",
    "\n",
    "            if (i%1000==0): \n",
    "                print(f'i= {i} \\tx={x} \\ty={y} \\tyStart={yStart}')\n",
    "\n",
    "            nNewParticlesPerFrame = 1000 \n",
    "            if (i%nNewParticlesPerFrame==0): \n",
    "                display(A)\n",
    "                \n",
    "            break # particle was attached, break out of current loop and insert next one\n",
    "            \n",
    "    if (yStart+1==maxY): \n",
    "        print(f'Structures reached Y limit after only {i} particles')\n",
    "        break\n",
    "\n",
    "display(A)\n",
    "        "
   ]
  },
  {
   "cell_type": "code",
   "execution_count": null,
   "metadata": {},
   "outputs": [],
   "source": [
    "#part 2\n",
    "# adjust so x+1 = 40% prob and x-1 = 10% prob \n",
    "\n",
    "#part 3 "
   ]
  }
 ],
 "metadata": {
  "kernelspec": {
   "display_name": "Python 3 (ipykernel)",
   "language": "python",
   "name": "python3"
  },
  "language_info": {
   "codemirror_mode": {
    "name": "ipython",
    "version": 3
   },
   "file_extension": ".py",
   "mimetype": "text/x-python",
   "name": "python",
   "nbconvert_exporter": "python",
   "pygments_lexer": "ipython3",
   "version": "3.9.13"
  }
 },
 "nbformat": 4,
 "nbformat_minor": 4
}
