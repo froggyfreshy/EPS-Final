{
 "cells": [
  {
   "cell_type": "code",
   "execution_count": 1,
   "metadata": {},
   "outputs": [],
   "source": [
    "import obspy as op\n",
    "import numpy as np\n",
    "import cartopy.crs as ccrs\n",
    "from obspy.clients.fdsn import Client\n",
    "import cartopy.feature as cfeature\n",
    "\n",
    "import matplotlib.pyplot as plt\n",
    "%matplotlib inline\n",
    "%config InlineBackend.figure_format = 'retina'\n",
    "\n",
    "import datetime"
   ]
  },
  {
   "cell_type": "code",
   "execution_count": 2,
   "metadata": {},
   "outputs": [
    {
     "name": "stdout",
     "output_type": "stream",
     "text": [
      "Download initiated. Should take about 8 seconds but requires an internet connection.\n",
      "Download began:  2023-10-30 19:16:14.117680\n",
      "Download ended:  2023-10-30 19:20:46.429061\n"
     ]
    }
   ],
   "source": [
    "currentDT = datetime.datetime.now()\n",
    "print ('Download initiated. Should take about 8 seconds but requires an internet connection.')\n",
    "print ('Download began: ',str(currentDT))\n",
    "\n",
    "client = Client(\"IRIS\")\n",
    "t1 = op.UTCDateTime(\"1970-01-01T00:00:00\") #start time of the request\n",
    "t2 = op.UTCDateTime(\"2023-10-30T00:00:00\") #end time of the request\n",
    "minMag = 5\n",
    "# read https://docs.obspy.org/packages/autogen/obspy.clients.fdsn.client.Client.get_events.html\n",
    "catalog = client.get_events(starttime=t1, endtime=t2, minmagnitude=minMag)\n",
    "\n",
    "currentDT = datetime.datetime.now()\n",
    "print ('Download ended: ',str(currentDT))"
   ]
  },
  {
   "cell_type": "code",
   "execution_count": 3,
   "metadata": {},
   "outputs": [
    {
     "name": "stdout",
     "output_type": "stream",
     "text": [
      "92135 Event(s) in Catalog:\n",
      "2023-10-29T13:57:41.061000Z | +43.941,  -28.384 | 5.1  mb\n",
      "2023-10-29T12:28:17.941000Z | -30.670, -178.165 | 5.0  mb\n",
      "...\n",
      "1970-01-01T01:49:56.800000Z | +28.530, +129.390 | 5.1  mb\n",
      "1970-01-01T01:43:48.000000Z |  +8.540,  -83.350 | 5.3  mb\n",
      "To see all events call 'print(CatalogObject.__str__(print_all=True))'\n"
     ]
    }
   ],
   "source": [
    "print(catalog)"
   ]
  },
  {
   "cell_type": "code",
   "execution_count": null,
   "metadata": {},
   "outputs": [],
   "source": []
  },
  {
   "cell_type": "code",
   "execution_count": 4,
   "metadata": {},
   "outputs": [
    {
     "name": "stdout",
     "output_type": "stream",
     "text": [
      "92135\n",
      "43.9406 -28.3835\n",
      "2023-10-29T13:57:41.061000Z\n",
      "5.1\n"
     ]
    }
   ],
   "source": [
    "# print the number of EQ and print info of the most recent one (has index=0)\n",
    "print(len(catalog.events))\n",
    "print(catalog[0].origins[0].latitude,catalog[0].origins[0].longitude)\n",
    "print(catalog[0].origins[0].time)\n",
    "print(catalog[0].magnitudes[0].mag)"
   ]
  },
  {
   "cell_type": "code",
   "execution_count": 5,
   "metadata": {},
   "outputs": [],
   "source": [
    "# copy latitude, longitude, depth, and magnitude out of the catalog that they can be plotted below\n",
    "evlat =[]\n",
    "evlon =[]\n",
    "evdep =[]\n",
    "evmag = []\n",
    "index = 0\n",
    "\n",
    "for eve in catalog:\n",
    "    event = catalog[index]\n",
    "    org = event.origins\n",
    "    evlat.append(org[0].latitude)\n",
    "    evlon.append(org[0].longitude)\n",
    "    #print(org[0].depth)\n",
    "    if (org[0].depth==None):\n",
    "        evdep.append(0.0)\n",
    "    else:\n",
    "        evdep.append((org[0].depth) / 1000.0)\n",
    "    evmag.append((event.magnitudes[0].mag)**4/2)\n",
    "    index+=1"
   ]
  },
  {
   "cell_type": "code",
   "execution_count": 6,
   "metadata": {},
   "outputs": [
    {
     "data": {
      "text/plain": [
       "\"\\nfig = plt.figure(figsize=(50,30))\\n\\nax = fig.add_subplot(1, 1, 1, projection=ccrs.Mollweide(central_longitude = 0))\\n\\nevents = ax.scatter(evlon, evlat, c=evdep, s=evmag, transform=ccrs.PlateCarree())\\n    \\n#Add coastlines and gridlines for lat/lon\\nax.coastlines(resolution='10m', color='gray')\\nax.gridlines()\\n\\ncbar = plt.colorbar(events, shrink=0.7)\\ncbar.set_label('Depth [km]', fontsize=50)\\ncbar.ax.tick_params(labelsize=40)\\n\\nprint('A world map with some earthquakes should appear. [Some warnings may also be printed.]')\\nplt.show()\\n\""
      ]
     },
     "execution_count": 6,
     "metadata": {},
     "output_type": "execute_result"
    }
   ],
   "source": [
    "#plt.rcParams['figure.figsize'] = [15, 7]\n",
    "'''\n",
    "fig = plt.figure(figsize=(50,30))\n",
    "\n",
    "ax = fig.add_subplot(1, 1, 1, projection=ccrs.Mollweide(central_longitude = 0))\n",
    "\n",
    "events = ax.scatter(evlon, evlat, c=evdep, s=evmag, transform=ccrs.PlateCarree())\n",
    "    \n",
    "#Add coastlines and gridlines for lat/lon\n",
    "ax.coastlines(resolution='10m', color='gray')\n",
    "ax.gridlines()\n",
    "\n",
    "cbar = plt.colorbar(events, shrink=0.7)\n",
    "cbar.set_label('Depth [km]', fontsize=50)\n",
    "cbar.ax.tick_params(labelsize=40)\n",
    "\n",
    "print('A world map with some earthquakes should appear. [Some warnings may also be printed.]')\n",
    "plt.show()\n",
    "'''"
   ]
  },
  {
   "cell_type": "code",
   "execution_count": 7,
   "metadata": {},
   "outputs": [],
   "source": [
    "#question 2\n",
    "#number of 8+ events since 1970 = 37 or 37/53 = 0.7 per year "
   ]
  },
  {
   "cell_type": "code",
   "execution_count": 8,
   "metadata": {},
   "outputs": [],
   "source": [
    "#question 3\n",
    "#mag 9 = 2 events \n",
    "#mag 8 = 27 events \n",
    "#mag 7 = 571 events \n",
    "#mag 6 = 6243 events \n",
    "#mag 5 = 92135 events, run time increased to 5mins\n",
    "#as mag decerases you can see the outline of plate boundaries and mid ocean ridges start to emerge "
   ]
  },
  {
   "cell_type": "code",
   "execution_count": 9,
   "metadata": {},
   "outputs": [
    {
     "name": "stdout",
     "output_type": "stream",
     "text": [
      "events in US: 712\n"
     ]
    }
   ],
   "source": [
    "#USA\n",
    "USlongmin = -125.38316\n",
    "USlongmax = -66.694649\n",
    "USlatmin = 25.195198\n",
    "USlatmax = 49.790668\n",
    "\n",
    "#print(len(catalog))\n",
    "USeq = 0\n",
    "\n",
    "for i in range (len(catalog)):\n",
    "    lat = catalog[i].origins[0].latitude\n",
    "    long = catalog[i].origins[0].longitude \n",
    "    if USlatmin < lat and lat < USlatmax and USlongmin < long and long < USlongmax :\n",
    "        USeq += 1\n",
    "             \n",
    "print('events in US:',USeq)\n",
    "       \n"
   ]
  },
  {
   "cell_type": "code",
   "execution_count": null,
   "metadata": {},
   "outputs": [],
   "source": []
  },
  {
   "cell_type": "code",
   "execution_count": 10,
   "metadata": {},
   "outputs": [
    {
     "name": "stdout",
     "output_type": "stream",
     "text": [
      "events in Japan: 4474\n"
     ]
    }
   ],
   "source": [
    "#Japan\n",
    "JPlongmin = 128.563941\n",
    "JPlongmax = 146.600266\n",
    "JPlatmin = 30.968076\n",
    "JPlatmax = 45.634933\n",
    "\n",
    "EqJP = 0\n",
    "\n",
    "for i in range (len(catalog)):\n",
    "    lat = catalog[i].origins[0].latitude\n",
    "    long = catalog[i].origins[0].longitude \n",
    "    \n",
    "    if JPlatmin < lat < JPlatmax and JPlongmin < long < JPlongmax :\n",
    "        EqJP += 1\n",
    "        \n",
    "print('events in Japan:', EqJP)"
   ]
  },
  {
   "cell_type": "markdown",
   "metadata": {},
   "source": [
    "| Magnitude | Total Number EQ | EQ in US | EQ in Japan | EQ elsewhere|\n",
    "|---|---|---|---|---|\n",
    "|Mag >= 9 | 9 | 0 | 1 | 8 |\n",
    "|Mag >= 8 | 27 | 0 | 2 | 25 |\n",
    "|Mag >= 7 | 571 | 6 | 31 | 534 |\n",
    "|Mag >= 6 | 6243 | 388 | 64 | 5791 |\n",
    "|Mag >= 5 | 92135 | 712 | 4474 | 86949 | \n"
   ]
  },
  {
   "cell_type": "code",
   "execution_count": null,
   "metadata": {},
   "outputs": [],
   "source": []
  }
 ],
 "metadata": {
  "kernelspec": {
   "display_name": "Python 3 (ipykernel)",
   "language": "python",
   "name": "python3"
  },
  "language_info": {
   "codemirror_mode": {
    "name": "ipython",
    "version": 3
   },
   "file_extension": ".py",
   "mimetype": "text/x-python",
   "name": "python",
   "nbconvert_exporter": "python",
   "pygments_lexer": "ipython3",
   "version": "3.11.5"
  }
 },
 "nbformat": 4,
 "nbformat_minor": 4
}
