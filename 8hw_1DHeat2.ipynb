{
 "cells": [
  {
   "cell_type": "code",
   "execution_count": 1,
   "id": "92ee086a",
   "metadata": {},
   "outputs": [],
   "source": [
    "import numpy as np\n",
    "import matplotlib.pyplot as plt"
   ]
  },
  {
   "cell_type": "code",
   "execution_count": 2,
   "id": "885d70a4",
   "metadata": {},
   "outputs": [],
   "source": [
    "#N=100\n",
    "\n",
    "m=2\n",
    "N = m*50\n",
    "d = 5\n",
    "L = 5*d\n",
    "\n",
    "T = np.zeros(5*N)\n",
    "x = np.linspace(0,L,5*N)\n"
   ]
  },
  {
   "cell_type": "code",
   "execution_count": 3,
   "id": "293e66cc",
   "metadata": {},
   "outputs": [],
   "source": [
    "def Tfunc(T):\n",
    "    for i in range(len(T)):\n",
    "        if x[i]>10 and x[i]<=15:\n",
    "            T[i]= 1230+273 # 1150 in Kelvin\n",
    "        else:\n",
    "            T[i]=20+273 # 0 Deg in Kelvin\n",
    "    return T\n",
    "\n",
    "T = Tfunc(T)\n",
    "#print(T)\n"
   ]
  },
  {
   "cell_type": "code",
   "execution_count": 4,
   "id": "6be3f730",
   "metadata": {},
   "outputs": [
    {
     "name": "stdout",
     "output_type": "stream",
     "text": [
      "n: 0.2618181818181818\n"
     ]
    }
   ],
   "source": [
    "k = 5.2 #J/m/s/K\n",
    "c = 1300 #J/kg/K\n",
    "p = 2750 #kg/m^3\n",
    "delta_t = 1800//(m**2) #sec\n",
    "delta_x = (L/(N*5))**2\n",
    "n = (delta_t/delta_x)*(k/(c*p)) \n",
    "\n",
    "print(\"n:\", n)\n",
    "\n",
    "def tchange(T,n):\n",
    "    Tnew=np.copy(T)\n",
    "    for i in range(1,N*5-1):\n",
    "        Tnew[i] = n*((T[i+1])-(2*T[i])+T[i-1])+(T[i])\n",
    "        Tnew = T\n",
    "    return T\n",
    "\n",
    "#print(tchange(T,n))\n"
   ]
  },
  {
   "cell_type": "code",
   "execution_count": 5,
   "id": "674c0e32",
   "metadata": {},
   "outputs": [
    {
     "name": "stdout",
     "output_type": "stream",
     "text": [
      "1503.0\n",
      "1502.9761763417946\n",
      "1375.5219658756034\n",
      "977.7841270139874\n",
      "470.78794744369816\n"
     ]
    }
   ],
   "source": [
    "#establish  times \n",
    "\n",
    "t_org = 1800\n",
    "\n",
    "hour = 60*60 \n",
    "day = 60*60*24\n",
    "week = 60*60*24*7\n",
    "month = 60*60*24*30\n",
    "year = 60*60*24*365\n",
    "\n",
    "time = np.array([60*60 , 60*60*24, 60*60*24*7, 60*60*24*30, 60*60*24*365])\n",
    "timecalc = time//delta_t\n",
    "\n",
    "for t in timecalc:\n",
    "    T = Tfunc(T)\n",
    "    for j in range(t):\n",
    "        T=tchange(T,n)\n",
    "    print(max(T))\n",
    "    \n",
    "    '''\n",
    "    plt.plot(x,T,'ro-',mfc='w')\n",
    "    plt.ylim(273,1500)\n",
    "    plt.show()    \n",
    "    '''\n",
    "        \n",
    "\n"
   ]
  },
  {
   "cell_type": "code",
   "execution_count": 6,
   "id": "1b5f49f3",
   "metadata": {},
   "outputs": [
    {
     "name": "stdout",
     "output_type": "stream",
     "text": [
      "n: 0.2606545454545454\n"
     ]
    }
   ],
   "source": [
    "#N=200\n",
    "\n",
    "m=4\n",
    "N = m*50\n",
    "d = 5\n",
    "L = 5*d\n",
    "\n",
    "T = np.zeros(5*N)\n",
    "x = np.linspace(0,L,5*N)\n",
    "\n",
    "def Tfunc(T):\n",
    "    for i in range(len(T)):\n",
    "        if x[i]>10 and x[i]<=15:\n",
    "            T[i]= 1230+273 # 1150 in Kelvin\n",
    "        else:\n",
    "            T[i]=20+273 # 0 Deg in Kelvin\n",
    "    return T\n",
    "\n",
    "T = Tfunc(T)\n",
    "#print(T)\n",
    "\n",
    "k = 5.2 #J/m/s/K\n",
    "c = 1300 #J/kg/K\n",
    "p = 2750 #kg/m^3\n",
    "delta_t = 1800//(m**2) #sec\n",
    "delta_x = (L/(N*5))**2\n",
    "n = (delta_t/delta_x)*(k/(c*p)) \n",
    "\n",
    "print(\"n:\", n)\n",
    "\n",
    "def tchange(T,n):\n",
    "    Tnew=np.copy(T)\n",
    "    for i in range(1,N*5-1):\n",
    "        Tnew[i] = n*((T[i+1])-(2*T[i])+T[i-1])+(T[i])\n",
    "        Tnew = T\n",
    "    return T\n",
    "\n",
    "#print(tchange(T,n))"
   ]
  },
  {
   "cell_type": "code",
   "execution_count": 7,
   "id": "25a07816",
   "metadata": {},
   "outputs": [
    {
     "name": "stdout",
     "output_type": "stream",
     "text": [
      "1503.0\n",
      "1502.9778681669927\n",
      "1375.8342654730084\n",
      "978.2087145556623\n",
      "471.42857697165573\n"
     ]
    }
   ],
   "source": [
    "t_org = 1800\n",
    "\n",
    "hour = 60*60 \n",
    "day = 60*60*24\n",
    "week = 60*60*24*7\n",
    "month = 60*60*24*30\n",
    "year = 60*60*24*365\n",
    "\n",
    "time = np.array([60*60 , 60*60*24, 60*60*24*7, 60*60*24*30, 60*60*24*365])\n",
    "timecalc = time//delta_t\n",
    "\n",
    "for t in timecalc:\n",
    "    T = Tfunc(T)\n",
    "    for j in range(t):\n",
    "        T=tchange(T,n)\n",
    "    print(max(T))"
   ]
  },
  {
   "cell_type": "markdown",
   "id": "0b57bfc2",
   "metadata": {},
   "source": []
  },
  {
   "cell_type": "markdown",
   "id": "15f10d69",
   "metadata": {},
   "source": [
    "### Question 2\n",
    "\n",
    "| cooling time | CONVERGED Temperature at the dike center (K) |\n",
    "| --- | --- |\n",
    "| 1 hour | 1503 |\n",
    "| 1 day | 1503 |\n",
    "| 1 week | 1375 |\n",
    "| 1 month | 978 |\n",
    "| 1 year |  471  |"
   ]
  },
  {
   "cell_type": "code",
   "execution_count": null,
   "id": "23729469",
   "metadata": {},
   "outputs": [],
   "source": []
  }
 ],
 "metadata": {
  "kernelspec": {
   "display_name": "Python 3 (ipykernel)",
   "language": "python",
   "name": "python3"
  },
  "language_info": {
   "codemirror_mode": {
    "name": "ipython",
    "version": 3
   },
   "file_extension": ".py",
   "mimetype": "text/x-python",
   "name": "python",
   "nbconvert_exporter": "python",
   "pygments_lexer": "ipython3",
   "version": "3.11.5"
  }
 },
 "nbformat": 4,
 "nbformat_minor": 5
}
